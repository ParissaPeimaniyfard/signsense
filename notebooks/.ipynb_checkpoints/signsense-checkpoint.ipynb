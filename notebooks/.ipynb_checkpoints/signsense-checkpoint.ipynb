{
 "cells": [
  {
   "cell_type": "markdown",
   "id": "50a745e3-dfad-4f2d-8b64-b707e75a87f2",
   "metadata": {},
   "source": [
    "# 1. Loading the data"
   ]
  },
  {
   "cell_type": "code",
   "execution_count": null,
   "id": "f215eb49-bc9e-4f88-bdc0-1268ebc43738",
   "metadata": {},
   "outputs": [],
   "source": []
  },
  {
   "cell_type": "code",
   "execution_count": null,
   "id": "6fa979a8-2e03-498e-965e-8be3a1c9e0e8",
   "metadata": {},
   "outputs": [],
   "source": []
  },
  {
   "cell_type": "code",
   "execution_count": null,
   "id": "1c10720c-a600-4b41-b363-ce4b1b69ef7b",
   "metadata": {},
   "outputs": [],
   "source": []
  },
  {
   "cell_type": "markdown",
   "id": "10b6e749-f64d-421f-87d7-48c4b2a694fe",
   "metadata": {},
   "source": [
    "# 2 .Visualization"
   ]
  },
  {
   "cell_type": "code",
   "execution_count": null,
   "id": "fbb26dc4-ff5e-4e62-b65c-8558fb7108de",
   "metadata": {},
   "outputs": [],
   "source": []
  },
  {
   "cell_type": "code",
   "execution_count": null,
   "id": "55382e3b-6122-4ecf-9a5d-51db88d7d123",
   "metadata": {},
   "outputs": [],
   "source": []
  },
  {
   "cell_type": "code",
   "execution_count": null,
   "id": "6f256547-0508-47c4-b0ce-c741719253bf",
   "metadata": {},
   "outputs": [],
   "source": []
  },
  {
   "cell_type": "code",
   "execution_count": null,
   "id": "55c7c953-780c-4808-b0d9-8745810ed49a",
   "metadata": {},
   "outputs": [],
   "source": []
  },
  {
   "cell_type": "code",
   "execution_count": null,
   "id": "21ec32be-4b36-431c-a8ef-7874913971d1",
   "metadata": {},
   "outputs": [],
   "source": []
  },
  {
   "cell_type": "markdown",
   "id": "f6f8833d-0939-4b97-bd88-b49abba63fce",
   "metadata": {},
   "source": [
    "# 3. CNN Models"
   ]
  },
  {
   "cell_type": "code",
   "execution_count": null,
   "id": "1d806412-43f6-43ce-bcae-5bb451fd06af",
   "metadata": {},
   "outputs": [],
   "source": []
  },
  {
   "cell_type": "code",
   "execution_count": null,
   "id": "40d180fc-f9ea-41a8-9b4f-13bd8b578af5",
   "metadata": {},
   "outputs": [],
   "source": []
  },
  {
   "cell_type": "markdown",
   "id": "cea531e1-7c27-47c2-996f-b2d8eea1c96e",
   "metadata": {},
   "source": [
    "## 3.1 Dummy model"
   ]
  },
  {
   "cell_type": "code",
   "execution_count": null,
   "id": "b488dd62-c9b6-4e70-aebd-029aeb4d485b",
   "metadata": {},
   "outputs": [],
   "source": []
  },
  {
   "cell_type": "code",
   "execution_count": null,
   "id": "860430e2-25f8-4ac2-8847-6bfa224b406f",
   "metadata": {},
   "outputs": [],
   "source": []
  },
  {
   "cell_type": "markdown",
   "id": "d82a6232-4134-4f06-bc43-4dff7cf012db",
   "metadata": {},
   "source": [
    "### 3.1.1 prediction"
   ]
  },
  {
   "cell_type": "code",
   "execution_count": null,
   "id": "df3bb590-ccb2-406f-a31f-fa55a5f6f683",
   "metadata": {},
   "outputs": [],
   "source": []
  },
  {
   "cell_type": "code",
   "execution_count": null,
   "id": "295b6958-89d7-4b8a-a467-f41270164c89",
   "metadata": {},
   "outputs": [],
   "source": []
  },
  {
   "cell_type": "markdown",
   "id": "3376098d-a62c-46c9-a8fb-96576c81735a",
   "metadata": {},
   "source": [
    "## 3.2 Good model"
   ]
  },
  {
   "cell_type": "code",
   "execution_count": null,
   "id": "16138003-0a9c-45ad-b25c-0fc9e89c498a",
   "metadata": {},
   "outputs": [],
   "source": []
  },
  {
   "cell_type": "code",
   "execution_count": null,
   "id": "0409bc6a-53d4-44cd-bbbc-d96fbf3b1253",
   "metadata": {},
   "outputs": [],
   "source": []
  },
  {
   "cell_type": "markdown",
   "id": "fc2621b6-3036-443c-b948-0323db3f2b0a",
   "metadata": {},
   "source": [
    "### 3.2.1 prediction"
   ]
  },
  {
   "cell_type": "code",
   "execution_count": null,
   "id": "4a34e8b9-b666-4e0d-8e9d-85d7dddd9f5a",
   "metadata": {},
   "outputs": [],
   "source": []
  },
  {
   "cell_type": "code",
   "execution_count": null,
   "id": "ec8d1411-b2ee-4645-b09b-e752840a97c9",
   "metadata": {},
   "outputs": [],
   "source": []
  },
  {
   "cell_type": "markdown",
   "id": "bf9e5e4c-8d85-4755-8b3d-32a56509386a",
   "metadata": {},
   "source": [
    "## 3.3 Model with data augmentation "
   ]
  },
  {
   "cell_type": "code",
   "execution_count": null,
   "id": "241a4124-091a-4c38-8431-175ac711b959",
   "metadata": {},
   "outputs": [],
   "source": []
  },
  {
   "cell_type": "code",
   "execution_count": null,
   "id": "001796a0-06ee-486f-b6bc-10be53105143",
   "metadata": {},
   "outputs": [],
   "source": []
  },
  {
   "cell_type": "code",
   "execution_count": null,
   "id": "e827fa9a-4042-4407-8302-b6e4f938062f",
   "metadata": {},
   "outputs": [],
   "source": []
  },
  {
   "cell_type": "markdown",
   "id": "11bd180a-a03b-4b5e-8ce4-05817f1bccd1",
   "metadata": {},
   "source": [
    "### 3.3.1 prediction"
   ]
  },
  {
   "cell_type": "code",
   "execution_count": null,
   "id": "fcd6720e-db3d-422b-8ce2-6503205d7682",
   "metadata": {},
   "outputs": [],
   "source": []
  },
  {
   "cell_type": "code",
   "execution_count": null,
   "id": "c998aaf6-7a51-4015-82a8-268ee7110540",
   "metadata": {},
   "outputs": [],
   "source": []
  },
  {
   "cell_type": "markdown",
   "id": "1b529203-056b-485c-b7ba-64b79ecc616b",
   "metadata": {
    "jp-MarkdownHeadingCollapsed": true
   },
   "source": [
    "## 3.4 Model with transfer learning"
   ]
  },
  {
   "cell_type": "code",
   "execution_count": null,
   "id": "5811fa7d-9672-4bb0-9c4f-d90bb66d7f43",
   "metadata": {},
   "outputs": [],
   "source": []
  },
  {
   "cell_type": "code",
   "execution_count": null,
   "id": "48a50f53-0a55-4826-8e68-43f8cca0dfaf",
   "metadata": {},
   "outputs": [],
   "source": []
  },
  {
   "cell_type": "markdown",
   "id": "a968d24e-58ec-4fed-b3e3-db709e70cb02",
   "metadata": {},
   "source": [
    "### 3.4.1 prediction"
   ]
  },
  {
   "cell_type": "code",
   "execution_count": null,
   "id": "c429e11f-9f8a-419a-b6c4-3227e4367473",
   "metadata": {},
   "outputs": [],
   "source": []
  },
  {
   "cell_type": "code",
   "execution_count": null,
   "id": "9819a12f-7038-421a-92b5-7790a431cfe0",
   "metadata": {},
   "outputs": [],
   "source": []
  },
  {
   "cell_type": "code",
   "execution_count": null,
   "id": "624f9d6e-1c50-4dee-a298-bedf717ad1dc",
   "metadata": {},
   "outputs": [],
   "source": []
  },
  {
   "cell_type": "markdown",
   "id": "0c7e3c78-4abd-4fb4-a59a-89a8b32477cf",
   "metadata": {},
   "source": [
    "## 3.5 Model with mix of data augmnetation and transfer learning"
   ]
  },
  {
   "cell_type": "code",
   "execution_count": null,
   "id": "00f1f41d-5fa3-4209-a2e5-21d0c3eec081",
   "metadata": {},
   "outputs": [],
   "source": []
  },
  {
   "cell_type": "code",
   "execution_count": null,
   "id": "174903c6-a020-4911-83d2-a261155a4f37",
   "metadata": {},
   "outputs": [],
   "source": []
  },
  {
   "cell_type": "markdown",
   "id": "f8a4c0d2-fe61-4e1f-992a-da99e4540eef",
   "metadata": {},
   "source": [
    "### 3.5.1 prediction"
   ]
  },
  {
   "cell_type": "code",
   "execution_count": null,
   "id": "1e07a577-b8a3-4121-be66-c7c8a670d66a",
   "metadata": {},
   "outputs": [],
   "source": []
  },
  {
   "cell_type": "code",
   "execution_count": null,
   "id": "2a04a5bc-c058-4731-b503-31a5ab756c21",
   "metadata": {},
   "outputs": [],
   "source": []
  },
  {
   "cell_type": "code",
   "execution_count": null,
   "id": "e6bb14fd-a12b-4a5c-a90e-12c46575717e",
   "metadata": {},
   "outputs": [],
   "source": []
  },
  {
   "cell_type": "code",
   "execution_count": null,
   "id": "6702fc3f-3f77-475c-8002-7c8e9a63bcda",
   "metadata": {},
   "outputs": [],
   "source": []
  },
  {
   "cell_type": "markdown",
   "id": "83ed9d43-877d-4e57-8687-e28375c2e1ef",
   "metadata": {},
   "source": [
    "# 4. Predicion function (chaging the probabilities to a letter)"
   ]
  },
  {
   "cell_type": "code",
   "execution_count": null,
   "id": "af330960-b25f-4ca1-8ccc-d3b4215c3fe6",
   "metadata": {},
   "outputs": [],
   "source": []
  }
 ],
 "metadata": {
  "kernelspec": {
   "display_name": "Python 3 (ipykernel)",
   "language": "python",
   "name": "python3"
  },
  "language_info": {
   "codemirror_mode": {
    "name": "ipython",
    "version": 3
   },
   "file_extension": ".py",
   "mimetype": "text/x-python",
   "name": "python",
   "nbconvert_exporter": "python",
   "pygments_lexer": "ipython3",
   "version": "3.10.6"
  }
 },
 "nbformat": 4,
 "nbformat_minor": 5
}
