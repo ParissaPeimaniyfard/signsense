{
 "cells": [
  {
   "cell_type": "markdown",
   "id": "31714e63-9838-4326-b7f3-88a89d2a4e27",
   "metadata": {},
   "source": [
    "# Working with videos:"
   ]
  },
  {
   "cell_type": "code",
   "execution_count": null,
   "id": "2e950297-cec8-462b-b61d-3f5dee77f6f1",
   "metadata": {},
   "outputs": [],
   "source": []
  }
 ],
 "metadata": {
  "kernelspec": {
   "display_name": "Python 3 (ipykernel)",
   "language": "python",
   "name": "python3"
  },
  "language_info": {
   "codemirror_mode": {
    "name": "ipython",
    "version": 3
   },
   "file_extension": ".py",
   "mimetype": "text/x-python",
   "name": "python",
   "nbconvert_exporter": "python",
   "pygments_lexer": "ipython3",
   "version": "3.10.6"
  }
 },
 "nbformat": 4,
 "nbformat_minor": 5
}
