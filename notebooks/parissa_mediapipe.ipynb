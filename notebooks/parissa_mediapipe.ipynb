{
 "cells": [
  {
   "cell_type": "markdown",
   "id": "a6b7b842-1a36-4216-815f-cbb6f0da10a7",
   "metadata": {},
   "source": [
    "# Using mediapipe model and landmarks: "
   ]
  },
  {
   "cell_type": "code",
   "execution_count": null,
   "id": "be99af7f-9dbc-41df-be2f-4dab97ed20ed",
   "metadata": {},
   "outputs": [],
   "source": []
  }
 ],
 "metadata": {
  "kernelspec": {
   "display_name": "Python 3 (ipykernel)",
   "language": "python",
   "name": "python3"
  },
  "language_info": {
   "codemirror_mode": {
    "name": "ipython",
    "version": 3
   },
   "file_extension": ".py",
   "mimetype": "text/x-python",
   "name": "python",
   "nbconvert_exporter": "python",
   "pygments_lexer": "ipython3",
   "version": "3.10.6"
  }
 },
 "nbformat": 4,
 "nbformat_minor": 5
}
