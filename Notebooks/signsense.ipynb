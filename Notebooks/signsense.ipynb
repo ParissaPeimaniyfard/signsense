{
 "cells": [
  {
   "cell_type": "code",
   "execution_count": 2,
   "metadata": {},
   "outputs": [],
   "source": [
    "##### NEEDS TO Be CHANGED\n",
    "\n",
    "from sklearn.datasets import load_iris\n",
    "from sklearn.linear_model import LogisticRegression\n",
    "from sklearn.model_selection import train_test_split\n",
    "from sklearn.pipeline import Pipeline\n",
    "from sklearn.preprocessing import MinMaxScaler\n",
    "import pickle\n",
    "\n",
    "# Load the Iris dataset\n",
    "X, y = load_iris(return_X_y=True)\n",
    "\n",
    "X.shape\n",
    "\n",
    "# # Create a pipeline\n",
    "pipeline = Pipeline([\n",
    "    ('scaler', MinMaxScaler()),\n",
    "    ('logistic_regression', LogisticRegression())\n",
    "])\n",
    "\n",
    "# # Fit the pipeline on the training data\n",
    "pipeline.fit(X, y)\n",
    "\n",
    "#pipeline.predict([[1,1,1,1]])\n",
    "\n",
    "# # Export the fitted pipeline as a pickle file\n",
    "with open('../models/best_model.pkl', 'wb') as file:\n",
    "    pickle.dump(pipeline, file)\n",
    "\n",
    "# print(\"Pipeline is successfully saved as 'fitted_pipeline.pkl'\")\n",
    "\n",
    "\n",
    "#model.predict([[1,1,1,1]])[0]"
   ]
  }
 ],
 "metadata": {
  "kernelspec": {
   "display_name": "signsense",
   "language": "python",
   "name": "python3"
  },
  "language_info": {
   "codemirror_mode": {
    "name": "ipython",
    "version": 3
   },
   "file_extension": ".py",
   "mimetype": "text/x-python",
   "name": "python",
   "nbconvert_exporter": "python",
   "pygments_lexer": "ipython3",
   "version": "3.10.6"
  }
 },
 "nbformat": 4,
 "nbformat_minor": 2
}
